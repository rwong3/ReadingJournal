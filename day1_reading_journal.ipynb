{
 "metadata": {
  "kernelspec": {
   "display_name": "Python 2",
   "language": "python",
   "name": "python2"
  },
  "language_info": {
   "codemirror_mode": {
    "name": "ipython",
    "version": 2
   },
   "file_extension": ".py",
   "mimetype": "text/x-python",
   "name": "python",
   "nbconvert_exporter": "python",
   "pygments_lexer": "ipython2",
   "version": "2.7.12"
  },
  "name": "",
  "signature": "sha256:1f23495a34ce0158d5b91271942084c7369921314f31707991bcf7e5e5c952c0"
 },
 "nbformat": 3,
 "nbformat_minor": 0,
 "worksheets": [
  {
   "cells": [
    {
     "cell_type": "markdown",
     "metadata": {},
     "source": [
      "# Day 1 Reading Journal\n",
      "\n",
      "Hi everyone.  These are the exercises for the first set of readings from ThinkPython.  While this journal consists of several required exercises, it is meant to encourage active reading more generally.  You should use this journal to take detailed notes, catalog questions, and explore the content from ThinkPython deeply.\n",
      "\n",
      "For more information on using the Jupyter notebook, check out the documentation [here](http://nbviewer.jupyter.org/github/jupyter/notebook/blob/master/docs/source/examples/Notebook/Examples%20and%20Tutorials%20Index.ipynb).  Additionally, in order to write text in this document, you will be making use of markdown cells. A handy cheatsheet for markdown is available [here](https://github.com/adam-p/markdown-here/wiki/Markdown-Cheatsheet)."
     ]
    },
    {
     "cell_type": "heading",
     "level": 2,
     "metadata": {},
     "source": [
      "A. The Case for Interdisciplinary Computer Science (pdf, pptx)"
     ]
    },
    {
     "cell_type": "markdown",
     "metadata": {},
     "source": [
      "Read \"The Case for Interdisciplinary Computer Science\" ([pdf](https://drive.google.com/file/d/0B0UHkPLHsgyoeWFQRkViT0tvREE/view?usp=sharing), [pptx](https://drive.google.com/file/d/0B0UHkPLHsgyodHlnLV9uVjkyUEk/view?usp=sharing)). Answer these questions:"
     ]
    },
    {
     "cell_type": "markdown",
     "metadata": {
      "question": "CICC.a"
     },
     "source": [
      "a. What are some benefits of learning computing?\n",
      "\n",
      "Write your answer in the cell below."
     ]
    },
    {
     "cell_type": "markdown",
     "metadata": {},
     "source": [
      "Build my own tool from scratch to solve problems (or help some people) that are important to me. \n",
      "Develop creative solutions to hard problems. Work effectively (speak the same language) as software developers that I might collaborate with or hire."
     ]
    },
    {
     "cell_type": "markdown",
     "metadata": {
      "question": "CICC.b"
     },
     "source": [
      "b. Should everyone(or, every *engineer*) learn to program? Why or why not? What is *your* opinon? [This is not a quesiton with a right and wrong answer.]"
     ]
    },
    {
     "cell_type": "markdown",
     "metadata": {},
     "source": [
      "Yes because the use of computing/programming and the logic behind programming can be applied to all areas and different industry to help make some difference (such as biology, medicine, and even art and music)."
     ]
    },
    {
     "cell_type": "markdown",
     "metadata": {
      "question": "CICC.c"
     },
     "source": [
      "c. Pick one of the examples from the slide deck. What did you like about it? What didn't you like? What would you add or change?"
     ]
    },
    {
     "cell_type": "markdown",
     "metadata": {},
     "source": [
      "I like the medicine example the most because the tool SNAP did indeed help a lot of patients that have infectious disease and saved a lot of lives. I like it because it is amazing to see how programming and computing is so powerful that it can help save lives. It did help find causes to diseases such as brain-swelling encephaltis. If I could add anything is to help use this code to find out how more deadly diseases were caused and better help curin and preventing future similar diseases."
     ]
    },
    {
     "cell_type": "heading",
     "level": 2,
     "metadata": {},
     "source": [
      "B. Think Python"
     ]
    },
    {
     "cell_type": "markdown",
     "metadata": {},
     "source": [
      "## Chapter 1\n",
      "\n",
      "Note: the exercise numbers below match up with the reading for ease of cross referencing."
     ]
    },
    {
     "cell_type": "markdown",
     "metadata": {
      "question": "1.3"
     },
     "source": [
      "### Exercise 3\n",
      "\n",
      "Type `help()` to start the online help utility. Or you can type `help('print')` to get information about the `print` statement.  You should type `q` and then hit `enter` in the text box to exit the help utility. \n",
      "\n",
      "Note: this exercise is pretty simple (and there's not much to put in the box)!  We just want to make sure that you have tried out this super-handy feature of Python!"
     ]
    },
    {
     "cell_type": "code",
     "collapsed": false,
     "input": [
      "help()\n",
      "help('print')"
     ],
     "language": "python",
     "metadata": {},
     "outputs": [
      {
       "output_type": "stream",
       "stream": "stdout",
       "text": [
        "\n",
        "Welcome to Python 2.7!  This is the online help utility.\n",
        "\n",
        "If this is your first time using Python, you should definitely check out\n",
        "the tutorial on the Internet at http://docs.python.org/2.7/tutorial/.\n",
        "\n",
        "Enter the name of any module, keyword, or topic to get help on writing\n",
        "Python programs and using Python modules.  To quit this help utility and\n",
        "return to the interpreter, just type \"quit\".\n",
        "\n",
        "To get a list of available modules, keywords, or topics, type \"modules\",\n",
        "\"keywords\", or \"topics\".  Each module also comes with a one-line summary\n",
        "of what it does; to list the modules whose summaries contain a given word\n",
        "such as \"spam\", type \"modules spam\".\n",
        "\n"
       ]
      },
      {
       "name": "stdout",
       "output_type": "stream",
       "stream": "stdout",
       "text": [
        "help> q\n"
       ]
      },
      {
       "output_type": "stream",
       "stream": "stdout",
       "text": [
        "\n",
        "You are now leaving help and returning to the Python interpreter.\n",
        "If you want to ask for help on a particular object directly from the\n",
        "interpreter, you can type \"help(object)\".  Executing \"help('string')\"\n",
        "has the same effect as typing a particular string at the help> prompt.\n",
        "The \"print\" statement\n",
        "*********************\n",
        "\n",
        "   print_stmt ::= \"print\" ([expression (\",\" expression)* [\",\"]]\n",
        "                  | \">>\" expression [(\",\" expression)+ [\",\"]])\n",
        "\n",
        "\"print\" evaluates each expression in turn and writes the resulting\n",
        "object to standard output (see below).  If an object is not a string,\n",
        "it is first converted to a string using the rules for string\n",
        "conversions.  The (resulting or original) string is then written.  A\n",
        "space is written before each object is (converted and) written, unless\n",
        "the output system believes it is positioned at the beginning of a\n",
        "line.  This is the case (1) when no characters have yet been written\n",
        "to standard output, (2) when the last character written to standard\n",
        "output is a whitespace character except \"' '\", or (3) when the last\n",
        "write operation on standard output was not a \"print\" statement. (In\n",
        "some cases it may be functional to write an empty string to standard\n",
        "output for this reason.)\n",
        "\n",
        "Note: Objects which act like file objects but which are not the\n",
        "  built-in file objects often do not properly emulate this aspect of\n",
        "  the file object's behavior, so it is best not to rely on this.\n",
        "\n",
        "A \"'\\n'\" character is written at the end, unless the \"print\" statement\n",
        "ends with a comma.  This is the only action if the statement contains\n",
        "just the keyword \"print\".\n",
        "\n",
        "Standard output is defined as the file object named \"stdout\" in the\n",
        "built-in module \"sys\".  If no such object exists, or if it does not\n",
        "have a \"write()\" method, a \"RuntimeError\" exception is raised.\n",
        "\n",
        "\"print\" also has an extended form, defined by the second portion of\n",
        "the syntax described above. This form is sometimes referred to as\n",
        "\"\"print\" chevron.\" In this form, the first expression after the \">>\"\n",
        "must evaluate to a \"file-like\" object, specifically an object that has\n",
        "a \"write()\" method as described above.  With this extended form, the\n",
        "subsequent expressions are printed to this file object.  If the first\n",
        "expression evaluates to \"None\", then \"sys.stdout\" is used as the file\n",
        "for output.\n",
        "\n"
       ]
      }
     ],
     "prompt_number": 5
    },
    {
     "cell_type": "markdown",
     "metadata": {
      "question": "1.4"
     },
     "source": [
      "### Exercise 4\n",
      "\n",
      "Start the Python interpreter and use it as a calculator. Python\u2019s syntax for math operations is almost the same as standard mathematical notation. For example, the symbols +, - and / denote addition, subtraction and division, as you would expect. The symbol for multiplication is *.\n",
      "\n",
      "If you run a 10 kilometer race in 43 minutes 30 seconds, what is your average time per mile? What is your average speed in miles per hour? (Hint: there are 1.61 kilometers in a mile). "
     ]
    },
    {
     "cell_type": "code",
     "collapsed": false,
     "input": [
      "(10/1.61)/(43.5/60)\n"
     ],
     "language": "python",
     "metadata": {},
     "outputs": [
      {
       "metadata": {},
       "output_type": "pyout",
       "prompt_number": 3,
       "text": [
        "8.567144998929106"
       ]
      }
     ],
     "prompt_number": 3
    },
    {
     "cell_type": "heading",
     "level": 2,
     "metadata": {},
     "source": [
      "Chapter 2"
     ]
    },
    {
     "cell_type": "markdown",
     "metadata": {
      "question": "2.2"
     },
     "source": [
      "### Exercise 2\n",
      "\n",
      "Assume that we execute the following assignment statements:\n",
      "\n",
      "```\n",
      "width = 17\n",
      "height = 12.0\n",
      "delimiter = '.'\n",
      "```\n",
      "\n",
      "For each of the following expressions, write the value of the expression and the type (of the value of the expression).\n",
      "\n",
      "1. `width/2`\n",
      "2. `width/2.0`\n",
      "3. `height/3`\n",
      "4. `1 + 2 * 5`\n",
      "5. `delimiter * 5`\n",
      "\n",
      "Please use the following markdown cell to provide your answer."
     ]
    },
    {
     "cell_type": "markdown",
     "metadata": {},
     "source": [
      "1. 8.5\n",
      "2. 8.5\n",
      "3. 4.0\n",
      "4. 11\n",
      "5. ....."
     ]
    },
    {
     "cell_type": "markdown",
     "metadata": {},
     "source": [
      "### Exercise 3\n",
      "\n",
      "Practice using the Python interpreter as a calculator.  For each of these provide Python code that computes each answer.\n",
      "\n",
      "    \n"
     ]
    },
    {
     "cell_type": "markdown",
     "metadata": {
      "question": "2.3a"
     },
     "source": [
      "The volume of a sphere with radius r is 4/3 $\\pi r^3$. What is the volume of a sphere with radius 5? Hint: 392.7 is wrong!"
     ]
    },
    {
     "cell_type": "code",
     "collapsed": true,
     "input": [
      "pi = 3.14\n",
      "(4.0/3.0)*pi*(5.0**3)"
     ],
     "language": "python",
     "metadata": {},
     "outputs": [
      {
       "metadata": {},
       "output_type": "pyout",
       "prompt_number": 13,
       "text": [
        "523.3333333333334"
       ]
      }
     ],
     "prompt_number": 13
    },
    {
     "cell_type": "markdown",
     "metadata": {
      "question": "2.3b"
     },
     "source": [
      "Suppose the cover price of a book is \\$24.95, but bookstores get a 40% discount. Shipping costs \\$3 for the first copy and 75 cents for each additional copy. What is the total wholesale cost for 60 copies?"
     ]
    },
    {
     "cell_type": "code",
     "collapsed": true,
     "input": [
      "(24.95*0.6*60)+(3+0.75*59)"
     ],
     "language": "python",
     "metadata": {},
     "outputs": [
      {
       "metadata": {},
       "output_type": "pyout",
       "prompt_number": 14,
       "text": [
        "945.4499999999999"
       ]
      }
     ],
     "prompt_number": 14
    },
    {
     "cell_type": "markdown",
     "metadata": {
      "question": "2.3c"
     },
     "source": [
      "If I leave my house at 6:52 am and run 1 mile at an easy pace (8:15 per mile), then 3 miles at tempo (7:12 per mile) and 1 mile at easy pace again, what time do I get home for breakfast? "
     ]
    },
    {
     "cell_type": "heading",
     "level": 2,
     "metadata": {},
     "source": [
      "Chapter 3"
     ]
    },
    {
     "cell_type": "markdown",
     "metadata": {
      "question": "3.3"
     },
     "source": [
      "### Exercise 3\n",
      "\n",
      "Python provides a built-in function called `len` that returns the length of a string, so the value of `len('allen')` is 5.\n",
      "\n",
      "Write a function named `right_justify` that takes a string named `s` as a parameter and prints the string with enough leading spaces so that the last letter of the string is in column 70 of the display.\n",
      "\n",
      "```\n",
      ">>> right_justify('allen')\n",
      "                                                                 allen```"
     ]
    },
    {
     "cell_type": "markdown",
     "metadata": {
      "question": "3.5a"
     },
     "source": [
      "### Exercise 5\n",
      "\n",
      "This exercise can be done using only the statements and other features we have learned so far.\n",
      "\n",
      "(a) Write a function that draws a grid like the following:\n",
      "```\n",
      "+ - - - - + - - - - +\n",
      "|         |         |\n",
      "|         |         |\n",
      "|         |         |\n",
      "|         |         |\n",
      "+ - - - - + - - - - +\n",
      "|         |         |\n",
      "|         |         |\n",
      "|         |         |\n",
      "|         |         |\n",
      "+ - - - - + - - - - +\n",
      "```\n",
      "**Hint:** to print more than one value on a line, you can print a comma-separated sequence:\n",
      "```\n",
      "print '+', '-'\n",
      "```\n",
      "\n",
      "If the sequence ends with a comma, Python leaves the line unfinished, so the value printed next appears on the same line:\n",
      "```\n",
      "print '+', \n",
      "print '-'\n",
      "```\n",
      "\n",
      "The output of these statements is '+ -'.\n",
      "\n",
      "A print statement all by itself ends the current line and goes to the next line."
     ]
    },
    {
     "cell_type": "code",
     "collapsed": true,
     "input": [
      "def do_twice(f):\n",
      "    f()\n",
      "    f()\n",
      "    \n",
      "def do_four(f):\n",
      "    do_twice(f)\n",
      "    do_twice(f)\n",
      "    \n",
      "def print_beam():\n",
      "    print '+ - - - -',\n",
      "\n",
      "def print_post():\n",
      "    print '|        ',\n",
      "\n",
      "def print_beams():\n",
      "    do_twice(print_beam)\n",
      "    print '+'\n",
      "\n",
      "def print_posts():\n",
      "    do_twice(print_post)\n",
      "    print '|'\n",
      "\n",
      "def print_row():\n",
      "    print_beams()\n",
      "    do_four(print_posts)\n",
      "    \n",
      "def print_grid():\n",
      "    do_twice(print_row)\n",
      "    print_beams()\n",
      "    \n",
      "print_grid()"
     ],
     "language": "python",
     "metadata": {},
     "outputs": [
      {
       "output_type": "stream",
       "stream": "stdout",
       "text": [
        "+ - - - - + - - - - +\n",
        "|         |         |\n",
        "|         |         |\n",
        "|         |         |\n",
        "|         |         |\n",
        "+ - - - - + - - - - +\n",
        "|         |         |\n",
        "|         |         |\n",
        "|         |         |\n",
        "|         |         |\n",
        "+ - - - - + - - - - +\n"
       ]
      }
     ],
     "prompt_number": 3
    },
    {
     "cell_type": "markdown",
     "metadata": {
      "question": "3.5b"
     },
     "source": [
      "(b) Write a function that draws a similar grid with *four* rows and *four* columns."
     ]
    },
    {
     "cell_type": "code",
     "collapsed": true,
     "input": [
      "def one_four_one(f, g, h):\n",
      "    f()\n",
      "    do_four(g)\n",
      "    h()\n",
      "    \n",
      "def print_plus():\n",
      "    print '+',\n",
      "    \n",
      "def print_dash():\n",
      "    print '-',\n",
      "    \n",
      "def print_bar():\n",
      "    print '|',\n",
      "    \n",
      "def print_space():\n",
      "    print ' ',\n",
      "    \n",
      "def print_end():\n",
      "    print\n",
      "    \n",
      "def nothing():\n",
      "    \"do nothing\"\n",
      "\n",
      "def print1beam():\n",
      "    one_four_one(nothing, print_dash, print_plus)\n",
      "    \n",
      "def print1post():\n",
      "    one_four_one(nothing, print_space, print_bar)\n",
      "    \n",
      "def print4beams():\n",
      "    one_four_one(print_plus, print1beam, print_end)\n",
      "        \n",
      "def print4posts():\n",
      "    one_four_one(print_bar, print1post, print_end)\n",
      "    \n",
      "def print_row():\n",
      "    one_four_one(nothing, print4posts, print4beams)\n",
      "    \n",
      "def print_grid():\n",
      "    one_four_one(print4beams, print_row, nothing)\n",
      "    \n",
      "print_grid()\n"
     ],
     "language": "python",
     "metadata": {},
     "outputs": [
      {
       "output_type": "stream",
       "stream": "stdout",
       "text": [
        "+ - - - - + - - - - + - - - - + - - - - +\n",
        "|         |         |         |         |\n",
        "|         |         |         |         |\n",
        "|         |         |         |         |\n",
        "|         |         |         |         |\n",
        "+ - - - - + - - - - + - - - - + - - - - +\n",
        "|         |         |         |         |\n",
        "|         |         |         |         |\n",
        "|         |         |         |         |\n",
        "|         |         |         |         |\n",
        "+ - - - - + - - - - + - - - - + - - - - +\n",
        "|         |         |         |         |\n",
        "|         |         |         |         |\n",
        "|         |         |         |         |\n",
        "|         |         |         |         |\n",
        "+ - - - - + - - - - + - - - - + - - - - +\n",
        "|         |         |         |         |\n",
        "|         |         |         |         |\n",
        "|         |         |         |         |\n",
        "|         |         |         |         |\n",
        "+ - - - - + - - - - + - - - - + - - - - +\n"
       ]
      }
     ],
     "prompt_number": 5
    },
    {
     "cell_type": "heading",
     "level": 2,
     "metadata": {},
     "source": [
      "Chapter 5.1 - 5.7"
     ]
    },
    {
     "cell_type": "markdown",
     "metadata": {
      "question": "5.3a"
     },
     "source": [
      "### Exercise 3\n",
      "\n",
      "Fermat\u2019s Last Theorem says that there are no positive integers $a$, $b$, and $c$ such that $a^n + b^n = c^n$ for any values of $n$ greater than 2.\n",
      "\n",
      "(a) Write a function named `check_fermat` that takes four parameters\u2014$a$, $b$, $c$ and $n$\u2014and that checks to see if Fermat\u2019s theorem holds. If $n$ is greater than 2 and it turns out to be true that\n",
      "$a^n + b^n = c^n$ the program should print, \"Holy smokes, Fermat was wrong!\" Otherwise the program should print, \"No, that doesn\u2019t work.\""
     ]
    },
    {
     "cell_type": "code",
     "collapsed": true,
     "input": [
      "def check_fermat(a, b, c, n):\n",
      "    if a**n+b**n==c**n:\n",
      "        print \"Holy smokes, Fermat was wrong!\"\n",
      "    else:\n",
      "        print \"No, that doesn't work\""
     ],
     "language": "python",
     "metadata": {},
     "outputs": [],
     "prompt_number": 3
    },
    {
     "cell_type": "markdown",
     "metadata": {
      "question": "5.3b"
     },
     "source": [
      "(b) Write a function that prompts the user to input values for $a$, $b$, $c$ and $n$, converts them to integers, and uses `check_fermat` to check whether they violate Fermat\u2019s theorem."
     ]
    },
    {
     "cell_type": "code",
     "collapsed": true,
     "input": [
      "def promp_fermat():\n",
      "    a=int(raw_input(\"Please enter value for a.\\n\"))\n",
      "    b=int(raw_input(\"Please enter value for b.\\n\"))\n",
      "    c=int(raw_input(\"Please enter value for c.\\n\"))\n",
      "    n=int(raw_input(\"Please enter value for n.\\n\"))\n",
      "    check_fermat(a, b, c, n),\n",
      "    print \"\\n\"\n",
      "    print \"What does the escape code \\\"\\\\n\\\" do?\"\n",
      "    print \"This solution is just \\'ok\\'. Why?\"\n",
      "\n",
      "promt_fermat()"
     ],
     "language": "python",
     "metadata": {},
     "outputs": []
    },
    {
     "cell_type": "markdown",
     "metadata": {
      "question": "5.4a"
     },
     "source": [
      "### Exercise 4\n",
      "\n",
      "If you are given three sticks, you may or may not be able to arrange them in a triangle. For example, if one of the sticks is 12 inches long and the other two are one inch long, it is clear that you will not be able to get the short sticks to meet in the middle. For any three lengths, there is a simple test to see if it is possible to form a triangle:\n",
      "> If any of the three lengths is greater than the sum of the other two, then you cannot form a triangle. Otherwise, you can. (If the sum of two lengths equals the third, they form what is called a \u201cdegenerate\u201d triangle.)\n",
      "\n",
      "(a) Write a function named `is_triangle` that takes three integers as arguments, and that prints either \"Yes\" or \"No,\" depending on whether you can or cannot form a triangle from sticks with the given lengths."
     ]
    },
    {
     "cell_type": "code",
     "collapsed": true,
     "input": [
      "def is_triangle(a, b, c):\n",
      "    if a+b>=c:\n",
      "        print \"Yes!\"\n",
      "    else:\n",
      "        print \"No!\"\n"
     ],
     "language": "python",
     "metadata": {},
     "outputs": []
    },
    {
     "cell_type": "markdown",
     "metadata": {
      "question": "5.4b"
     },
     "source": [
      "(b) Write a function that prompts the user to input three stick lengths, converts them to integers, and uses is_triangle to check whether sticks with the given lengths can form a triangle."
     ]
    },
    {
     "cell_type": "code",
     "collapsed": true,
     "input": [
      "def prompt_triangle():\n",
      "    \n",
      "    a=int(raw_input(\"Please enter value for a.\\n\"))\n",
      "    b=int(raw_input(\"Please enter value for b.\\n\"))\n",
      "    c=int(raw_input(\"Please enter value for c.\\n\"))\n",
      "    \n",
      "    is_triangle(a, b, c)\n",
      "    \n",
      "prompt_triangle()"
     ],
     "language": "python",
     "metadata": {},
     "outputs": []
    },
    {
     "cell_type": "markdown",
     "metadata": {
      "is_poll": true,
      "question": "Time spent"
     },
     "source": [
      "## Quick poll\n",
      "\n",
      "About how long did you spend working on this Reading Journal?"
     ]
    },
    {
     "cell_type": "markdown",
     "metadata": {},
     "source": [
      "2.25 hours"
     ]
    },
    {
     "cell_type": "markdown",
     "metadata": {
      "question": "Feedback"
     },
     "source": [
      "## Reading Journal Feedback\n",
      "\n",
      "Have any comments on this Reading Journal? Feel free to leave them below and we'll read them when you submit your journal entry. This could include suggestions to improve the exercises, topics you'd like to see covered in class next time, or other feedback.\n",
      "\n",
      "If you have Python questions or run into problems while completing the reading, you should post them to Slack instead so you can get a quick response before your journal is submitted."
     ]
    },
    {
     "cell_type": "markdown",
     "metadata": {},
     "source": [
      "I thought it would run the code by hitting enter but I had to press the play button to run each program."
     ]
    }
   ],
   "metadata": {}
  }
 ]
}